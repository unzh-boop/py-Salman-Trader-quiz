{
  "nbformat": 4,
  "nbformat_minor": 0,
  "metadata": {
    "colab": {
      "name": "python quiz.ipynb",
      "provenance": [],
      "authorship_tag": "ABX9TyP7iBG7IEYMe5FcmAelleo8",
      "include_colab_link": true
    },
    "kernelspec": {
      "name": "python3",
      "display_name": "Python 3"
    },
    "language_info": {
      "name": "python"
    }
  },
  "cells": [
    {
      "cell_type": "markdown",
      "metadata": {
        "id": "view-in-github",
        "colab_type": "text"
      },
      "source": [
        "<a href=\"https://colab.research.google.com/github/unzh-boop/py-Salman-Trader-quiz/blob/main/python_quiz.ipynb\" target=\"_parent\"><img src=\"https://colab.research.google.com/assets/colab-badge.svg\" alt=\"Open In Colab\"/></a>"
      ]
    },
    {
      "cell_type": "code",
      "metadata": {
        "id": "o8EcXIdTtnpv",
        "colab": {
          "base_uri": "https://localhost:8080/"
        },
        "outputId": "8f828e01-ccdf-442c-b970-789b0bd2cbd3"
      },
      "source": [
        "def Salman():\n",
        "  print(\"-\"*20 + \"Salman Traders\" + \"-\"*20)\n",
        "\n",
        "def TotalPrice(objects, rate):\n",
        "  return (objects * rate)\n",
        "\n",
        "def Remaining(Total, curr):\n",
        "  if Total <= curr:\n",
        "    return (curr - Total)\n",
        "  else:\n",
        "    print(\"Currency not enough.\")\n",
        "\n",
        "rate = float(input(\"Enter the rate: \"))\n",
        "obj = float(input(\"ENter number of objects: \"))\n",
        "cur = float(input(\"Enter currency: \"))\n",
        "Salman()\n",
        "\n",
        "tp = TotalPrice(obj, rate)\n",
        "tp1 = str(tp)\n",
        "rm = Remaining(tp, cur)\n",
        "rm1 = str(rm)\n",
        "\n",
        "print(\"Total price is \" + tp1)\n",
        "print(\"Remaining balance is \" + rm1)"
      ],
      "execution_count": 15,
      "outputs": [
        {
          "output_type": "stream",
          "text": [
            "Enter the rate: 786\n",
            "ENter number of objects: 5\n",
            "Enter currency: 45\n",
            "--------------------Salman Traders--------------------\n",
            "Currency not enough.\n",
            "Total price is 3930.0\n",
            "Remaining balance is None\n"
          ],
          "name": "stdout"
        }
      ]
    }
  ]
}